{
  "nbformat": 4,
  "nbformat_minor": 0,
  "metadata": {
    "colab": {
      "provenance": []
    },
    "kernelspec": {
      "name": "python3",
      "display_name": "Python 3"
    },
    "language_info": {
      "name": "python"
    }
  },
  "cells": [
    {
      "cell_type": "code",
      "source": [
        "import heapq\n",
        "\n",
        "class Node:\n",
        "    def __init__(self, position, parent=None):\n",
        "        self.position = position\n",
        "        self.parent = parent\n",
        "        self.g = 0  # Cost from start node\n",
        "        self.h = 0  # Heuristic cost\n",
        "        self.f = 0  # Total cost\n",
        "\n",
        "    def __lt__(self, other):\n",
        "        return self.f < other.f\n",
        "\n",
        "def heuristic(a, b):\n",
        "    return abs(a[0] - b[0]) + abs(a[1] - b[1])  # Manhattan Distance\n",
        "\n",
        "def astar(grid, start, end):\n",
        "    open_list = []\n",
        "    closed_set = set()\n",
        "    start_node = Node(start)\n",
        "    end_node = Node(end)\n",
        "    heapq.heappush(open_list, start_node)\n",
        "\n",
        "    while open_list:\n",
        "        current_node = heapq.heappop(open_list)\n",
        "\n",
        "        if current_node.position == end_node.position:\n",
        "            path = []\n",
        "            while current_node:\n",
        "                path.append(current_node.position)\n",
        "                current_node = current_node.parent\n",
        "            return path[::-1]  # Return reversed path\n",
        "\n",
        "        closed_set.add(current_node.position)\n",
        "\n",
        "        for move in [(0, -1), (0, 1), (-1, 0), (1, 0)]:\n",
        "            node_position = (current_node.position[0] + move[0], current_node.position[1] + move[1])\n",
        "\n",
        "            if node_position[0] < 0 or node_position[0] >= len(grid) or node_position[1] < 0 or node_position[1] >= len(grid[0]):\n",
        "                continue\n",
        "            if grid[node_position[0]][node_position[1]] == 1:\n",
        "                continue\n",
        "            if node_position in closed_set:\n",
        "                continue\n",
        "\n",
        "            neighbor = Node(node_position, current_node)\n",
        "            neighbor.g = current_node.g + 1\n",
        "            neighbor.h = heuristic(neighbor.position, end_node.position)\n",
        "            neighbor.f = neighbor.g + neighbor.h\n",
        "\n",
        "            if any(open_node.position == neighbor.position and open_node.f <= neighbor.f for open_node in open_list):\n",
        "                continue\n",
        "\n",
        "            heapq.heappush(open_list, neighbor)\n",
        "\n",
        "    return None  # No path found\n",
        "\n",
        "# Example Grid (0 = free space, 1 = obstacle)\n",
        "grid = [\n",
        "    [0, 1, 0, 0, 0],\n",
        "    [0, 1, 0, 1, 0],\n",
        "    [0, 0, 0, 1, 0],\n",
        "    [0, 1, 1, 1, 0],\n",
        "    [0, 0, 0, 0, 0]\n",
        "]\n",
        "\n",
        "start = (0, 0)\n",
        "end = (4, 4)\n",
        "\n",
        "path = astar(grid, start, end)\n",
        "print(\"Path:\", path)"
      ],
      "metadata": {
        "colab": {
          "base_uri": "https://localhost:8080/"
        },
        "id": "FXQvgToowhpB",
        "outputId": "fd222ffb-d09b-48f8-a5a9-1d4090a243c5"
      },
      "execution_count": 12,
      "outputs": [
        {
          "output_type": "stream",
          "name": "stdout",
          "text": [
            "Path: [(0, 0), (1, 0), (2, 0), (3, 0), (4, 0), (4, 1), (4, 2), (4, 3), (4, 4)]\n"
          ]
        }
      ]
    }
  ]
}